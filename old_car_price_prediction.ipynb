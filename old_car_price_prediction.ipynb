{
  "nbformat": 4,
  "nbformat_minor": 0,
  "metadata": {
    "colab": {
      "name": "old_car_price_prediction.ipynb",
      "version": "0.3.2",
      "provenance": [],
      "collapsed_sections": []
    },
    "kernelspec": {
      "name": "python3",
      "display_name": "Python 3"
    },
    "accelerator": "GPU"
  },
  "cells": [
    {
      "cell_type": "markdown",
      "metadata": {
        "id": "yix51t2HsiVj",
        "colab_type": "text"
      },
      "source": [
        "## Exploratory Data Analysis"
      ]
    },
    {
      "cell_type": "code",
      "metadata": {
        "id": "7fp1kXwfsiw1",
        "colab_type": "code",
        "colab": {}
      },
      "source": [
        "import pandas as pd\n",
        "import seaborn as sns\n",
        "import numpy as np\n",
        "import matplotlib.pyplot as plt\n",
        "from sklearn.model_selection import GridSearchCV\n",
        "from sklearn.model_selection import cross_val_score\n",
        "from sklearn.model_selection import KFold\n",
        "import warnings\n",
        "warnings.filterwarnings('ignore')"
      ],
      "execution_count": 0,
      "outputs": []
    },
    {
      "cell_type": "code",
      "metadata": {
        "id": "lr0N6llPidPJ",
        "colab_type": "code",
        "colab": {}
      },
      "source": [
        "!python data_clean.py"
      ],
      "execution_count": 0,
      "outputs": []
    },
    {
      "cell_type": "code",
      "metadata": {
        "id": "pPZqIBRrE-67",
        "colab_type": "code",
        "outputId": "7761de51-164f-43c0-e028-4466ad3d8395",
        "colab": {
          "base_uri": "https://localhost:8080/",
          "height": 34
        }
      },
      "source": [
        "train_df=pd.read_csv('train.csv')\n",
        "test_df=pd.read_csv('test.csv')\n",
        "train_df.shape,test_df.shape"
      ],
      "execution_count": 6,
      "outputs": [
        {
          "output_type": "execute_result",
          "data": {
            "text/plain": [
              "((6019, 13), (1234, 12))"
            ]
          },
          "metadata": {
            "tags": []
          },
          "execution_count": 6
        }
      ]
    },
    {
      "cell_type": "code",
      "metadata": {
        "id": "adqEyJfbE4Ji",
        "colab_type": "code",
        "outputId": "cf276dcb-96fb-43dc-97cd-8f14909e81e4",
        "colab": {
          "base_uri": "https://localhost:8080/",
          "height": 610
        }
      },
      "source": [
        "uniqueCities=dict(train_df['Location'].value_counts())\n",
        "\n",
        "print(uniqueCities)\n",
        "\n",
        "avgPriceAccToLocation=dict(train_df.groupby('Location')['Price'].mean())\n",
        "plt.barh(list(avgPriceAccToLocation.keys()),list(avgPriceAccToLocation.values()))\n",
        "plt.xlabel('AveragePrice')\n",
        "plt.ylabel('Cities')\n",
        "plt.title('Train Set : Average Price By Cities')\n",
        "plt.show()\n",
        "\n",
        "avgPriceAccToYear=dict(train_df.groupby('Year')['Price'].mean())\n",
        "plt.barh(list(avgPriceAccToYear.keys()),list(avgPriceAccToYear.values()))\n",
        "plt.xlabel('AveragePrice')\n",
        "plt.ylabel('Year')\n",
        "plt.title('Train Set : Average Price By Year')\n",
        "plt.show()"
      ],
      "execution_count": 7,
      "outputs": [
        {
          "output_type": "stream",
          "text": [
            "{'Mumbai': 790, 'Hyderabad': 742, 'Kochi': 651, 'Coimbatore': 636, 'Pune': 622, 'Delhi': 554, 'Kolkata': 535, 'Chennai': 494, 'Jaipur': 413, 'Bangalore': 358, 'Ahmedabad': 224}\n"
          ],
          "name": "stdout"
        },
        {
          "output_type": "display_data",
          "data": {
            "image/png": "[encoded data removed]",
            "text/plain": [
              "<Figure size 432x288 with 1 Axes>"
            ]
          },
          "metadata": {
            "tags": []
          }
        },
        {
          "output_type": "display_data",
          "data": {
            "image/png": "[encoded data removed]",
            "text/plain": [
              "<Figure size 432x288 with 1 Axes>"
            ]
          },
          "metadata": {
            "tags": []
          }
        }
      ]
    },
    {
      "cell_type": "code",
      "metadata": {
        "id": "1lJ0zFXNjDia",
        "colab_type": "code",
        "outputId": "13734bc2-93b6-42b0-b500-34e94a3080fd",
        "colab": {
          "base_uri": "https://localhost:8080/",
          "height": 401
        }
      },
      "source": [
        "train_df.head()"
      ],
      "execution_count": 8,
      "outputs": [
        {
          "output_type": "execute_result",
          "data": {
            "text/html": [
              "<div>\n",
              "<style scoped>\n",
              "    .dataframe tbody tr th:only-of-type {\n",
              "        vertical-align: middle;\n",
              "    }\n",
              "\n",
              "    .dataframe tbody tr th {\n",
              "        vertical-align: top;\n",
              "    }\n",
              "\n",
              "    .dataframe thead th {\n",
              "        text-align: right;\n",
              "    }\n",
              "</style>\n",
              "<table border=\"1\" class=\"dataframe\">\n",
              "  <thead>\n",
              "    <tr style=\"text-align: right;\">\n",
              "      <th></th>\n",
              "      <th>Unnamed: 0</th>\n",
              "      <th>Name</th>\n",
              "      <th>Location</th>\n",
              "      <th>Year</th>\n",
              "      <th>Kilometers_Driven</th>\n",
              "      <th>Fuel_Type</th>\n",
              "      <th>Transmission</th>\n",
              "      <th>Owner_Type</th>\n",
              "      <th>Mileage</th>\n",
              "      <th>Engine</th>\n",
              "      <th>Power</th>\n",
              "      <th>Seats</th>\n",
              "      <th>Price</th>\n",
              "    </tr>\n",
              "  </thead>\n",
              "  <tbody>\n",
              "    <tr>\n",
              "      <th>0</th>\n",
              "      <td>0</td>\n",
              "      <td>Maruti Wagon R LXI CNG</td>\n",
              "      <td>Mumbai</td>\n",
              "      <td>2010</td>\n",
              "      <td>72000</td>\n",
              "      <td>CNG</td>\n",
              "      <td>Manual</td>\n",
              "      <td>First</td>\n",
              "      <td>26.60</td>\n",
              "      <td>998.0</td>\n",
              "      <td>58.16</td>\n",
              "      <td>5.0</td>\n",
              "      <td>1.75</td>\n",
              "    </tr>\n",
              "    <tr>\n",
              "      <th>1</th>\n",
              "      <td>1</td>\n",
              "      <td>Hyundai Creta 1.6 CRDi SX Option</td>\n",
              "      <td>Pune</td>\n",
              "      <td>2015</td>\n",
              "      <td>41000</td>\n",
              "      <td>Diesel</td>\n",
              "      <td>Manual</td>\n",
              "      <td>First</td>\n",
              "      <td>19.67</td>\n",
              "      <td>1582.0</td>\n",
              "      <td>126.20</td>\n",
              "      <td>5.0</td>\n",
              "      <td>12.50</td>\n",
              "    </tr>\n",
              "    <tr>\n",
              "      <th>2</th>\n",
              "      <td>2</td>\n",
              "      <td>Honda Jazz V</td>\n",
              "      <td>Chennai</td>\n",
              "      <td>2011</td>\n",
              "      <td>46000</td>\n",
              "      <td>Petrol</td>\n",
              "      <td>Manual</td>\n",
              "      <td>First</td>\n",
              "      <td>18.20</td>\n",
              "      <td>1199.0</td>\n",
              "      <td>88.70</td>\n",
              "      <td>5.0</td>\n",
              "      <td>4.50</td>\n",
              "    </tr>\n",
              "    <tr>\n",
              "      <th>3</th>\n",
              "      <td>3</td>\n",
              "      <td>Maruti Ertiga VDI</td>\n",
              "      <td>Chennai</td>\n",
              "      <td>2012</td>\n",
              "      <td>87000</td>\n",
              "      <td>Diesel</td>\n",
              "      <td>Manual</td>\n",
              "      <td>First</td>\n",
              "      <td>20.77</td>\n",
              "      <td>1248.0</td>\n",
              "      <td>88.76</td>\n",
              "      <td>7.0</td>\n",
              "      <td>6.00</td>\n",
              "    </tr>\n",
              "    <tr>\n",
              "      <th>4</th>\n",
              "      <td>4</td>\n",
              "      <td>Audi A4 New 2.0 TDI Multitronic</td>\n",
              "      <td>Coimbatore</td>\n",
              "      <td>2013</td>\n",
              "      <td>40670</td>\n",
              "      <td>Diesel</td>\n",
              "      <td>Automatic</td>\n",
              "      <td>Second</td>\n",
              "      <td>15.20</td>\n",
              "      <td>1968.0</td>\n",
              "      <td>140.80</td>\n",
              "      <td>5.0</td>\n",
              "      <td>17.74</td>\n",
              "    </tr>\n",
              "  </tbody>\n",
              "</table>\n",
              "</div>"
            ],
            "text/plain": [
              "   Unnamed: 0                              Name  ... Seats  Price\n",
              "0           0            Maruti Wagon R LXI CNG  ...   5.0   1.75\n",
              "1           1  Hyundai Creta 1.6 CRDi SX Option  ...   5.0  12.50\n",
              "2           2                      Honda Jazz V  ...   5.0   4.50\n",
              "3           3                 Maruti Ertiga VDI  ...   7.0   6.00\n",
              "4           4   Audi A4 New 2.0 TDI Multitronic  ...   5.0  17.74\n",
              "\n",
              "[5 rows x 13 columns]"
            ]
          },
          "metadata": {
            "tags": []
          },
          "execution_count": 8
        }
      ]
    },
    {
      "cell_type": "code",
      "metadata": {
        "id": "V-3vGrb6jFZK",
        "colab_type": "code",
        "colab": {}
      },
      "source": [
        "train_df.drop(['Unnamed: 0'],axis=1,inplace=True)\n",
        "test_df.drop(['Unnamed: 0'],axis=1,inplace=True)"
      ],
      "execution_count": 0,
      "outputs": []
    },
    {
      "cell_type": "markdown",
      "metadata": {
        "id": "1XqQ8J5t18cY",
        "colab_type": "text"
      },
      "source": [
        "**No. of Rows for each City**"
      ]
    },
    {
      "cell_type": "code",
      "metadata": {
        "id": "3psN5DlCKaMr",
        "colab_type": "code",
        "outputId": "8d2aabcc-078e-4ba8-ea9e-09422e3683d7",
        "colab": {
          "base_uri": "https://localhost:8080/",
          "height": 230
        }
      },
      "source": [
        "train_df['Location'].value_counts()"
      ],
      "execution_count": 10,
      "outputs": [
        {
          "output_type": "execute_result",
          "data": {
            "text/plain": [
              "Mumbai        790\n",
              "Hyderabad     742\n",
              "Kochi         651\n",
              "Coimbatore    636\n",
              "Pune          622\n",
              "Delhi         554\n",
              "Kolkata       535\n",
              "Chennai       494\n",
              "Jaipur        413\n",
              "Bangalore     358\n",
              "Ahmedabad     224\n",
              "Name: Location, dtype: int64"
            ]
          },
          "metadata": {
            "tags": []
          },
          "execution_count": 10
        }
      ]
    },
    {
      "cell_type": "markdown",
      "metadata": {
        "id": "f4P1zKn92CsO",
        "colab_type": "text"
      },
      "source": [
        "**No. of Rows for each Brand**"
      ]
    },
    {
      "cell_type": "code",
      "metadata": {
        "id": "JwI1PmlE13Wb",
        "colab_type": "code",
        "outputId": "d27875ef-c5f1-4de3-fa42-172afc90816f",
        "colab": {
          "base_uri": "https://localhost:8080/",
          "height": 626
        }
      },
      "source": [
        "plt.figure(figsize=(10,10))\n",
        "avgPriceAccToBrand=dict(train_df.groupby('Name')['Price'].mean())\n",
        "plt.barh(list(avgPriceAccToBrand.keys()),list(avgPriceAccToBrand.values()))\n",
        "plt.xlabel('AveragePrice')\n",
        "plt.ylabel('Brand')"
      ],
      "execution_count": 11,
      "outputs": [
        {
          "output_type": "execute_result",
          "data": {
            "text/plain": [
              "Text(0, 0.5, 'Brand')"
            ]
          },
          "metadata": {
            "tags": []
          },
          "execution_count": 11
        },
        {
          "output_type": "display_data",
          "data": {
            "image/png": "[encoded data removed]",
            "text/plain": [
              "<Figure size 720x720 with 1 Axes>"
            ]
          },
          "metadata": {
            "tags": []
          }
        }
      ]
    },
    {
      "cell_type": "code",
      "metadata": {
        "id": "koX5ahKfKfcb",
        "colab_type": "code",
        "outputId": "d01b97e5-2e4c-4d7c-df47-ec2a6d485309",
        "colab": {
          "base_uri": "https://localhost:8080/",
          "height": 34
        }
      },
      "source": [
        "len(train_df['Name'].value_counts())  #1876 unqiue values.  high cardinality"
      ],
      "execution_count": 12,
      "outputs": [
        {
          "output_type": "execute_result",
          "data": {
            "text/plain": [
              "1876"
            ]
          },
          "metadata": {
            "tags": []
          },
          "execution_count": 12
        }
      ]
    },
    {
      "cell_type": "code",
      "metadata": {
        "id": "gPSR0uk0Kqf-",
        "colab_type": "code",
        "outputId": "e22508f4-d564-4dee-928d-96272db50578",
        "colab": {
          "base_uri": "https://localhost:8080/",
          "height": 34
        }
      },
      "source": [
        "len(train_df['Year'].value_counts())  #22 unqiue values.  high cardinality"
      ],
      "execution_count": 13,
      "outputs": [
        {
          "output_type": "execute_result",
          "data": {
            "text/plain": [
              "22"
            ]
          },
          "metadata": {
            "tags": []
          },
          "execution_count": 13
        }
      ]
    },
    {
      "cell_type": "code",
      "metadata": {
        "id": "BcTqxAFD1TP0",
        "colab_type": "code",
        "outputId": "fb33785f-2377-4e1a-cc72-155ceec3b8cf",
        "colab": {
          "base_uri": "https://localhost:8080/",
          "height": 105
        }
      },
      "source": [
        "means_name = train_df.groupby('Name')['Price'].mean().to_dict()\n",
        "count=0\n",
        "for model, mean_enc in means_name.items(): \n",
        "    print(model, \":\", mean_enc)\n",
        "    count=count+1\n",
        "    if(count==5):\n",
        "      break"
      ],
      "execution_count": 14,
      "outputs": [
        {
          "output_type": "stream",
          "text": [
            "Ambassador Classic Nova Diesel : 1.35\n",
            "Audi A3 35 TDI Attraction : 16.5\n",
            "Audi A3 35 TDI Premium : 19.25\n",
            "Audi A3 35 TDI Premium Plus : 18.9\n",
            "Audi A3 35 TDI Technology : 22.5\n"
          ],
          "name": "stdout"
        }
      ]
    },
    {
      "cell_type": "code",
      "metadata": {
        "id": "J3jza6rY1Twa",
        "colab_type": "code",
        "outputId": "c560f921-36e4-48ca-c4e4-59eef7852121",
        "colab": {
          "base_uri": "https://localhost:8080/",
          "height": 105
        }
      },
      "source": [
        "means_location = train_df.groupby('Location')['Price'].mean().to_dict()\n",
        "count=0\n",
        "for loc, mean_enc in means_location.items(): \n",
        "    print(loc, \":\", mean_enc)\n",
        "    count=count+1\n",
        "    if(count==5):\n",
        "      break"
      ],
      "execution_count": 15,
      "outputs": [
        {
          "output_type": "stream",
          "text": [
            "Ahmedabad : 8.457321428571433\n",
            "Bangalore : 13.32863128491619\n",
            "Chennai : 7.753623481781378\n",
            "Coimbatore : 15.078223270440263\n",
            "Delhi : 9.707725631768943\n"
          ],
          "name": "stdout"
        }
      ]
    },
    {
      "cell_type": "code",
      "metadata": {
        "id": "jRLSlDHe1T9s",
        "colab_type": "code",
        "outputId": "838aaab9-554d-4d69-813b-51ec156a0a94",
        "colab": {
          "base_uri": "https://localhost:8080/",
          "height": 105
        }
      },
      "source": [
        "means_year=train_df.groupby('Year')['Price'].mean().to_dict()\n",
        "count=0\n",
        "for year, mean_enc in means_year.items(): \n",
        "    print(year, \":\", mean_enc)\n",
        "    count=count+1\n",
        "    if(count==5):\n",
        "      break"
      ],
      "execution_count": 16,
      "outputs": [
        {
          "output_type": "stream",
          "text": [
            "1998 : 1.4324999999999999\n",
            "1999 : 0.835\n",
            "2000 : 1.175\n",
            "2001 : 1.5437500000000002\n",
            "2002 : 1.2940000000000003\n"
          ],
          "name": "stdout"
        }
      ]
    },
    {
      "cell_type": "markdown",
      "metadata": {
        "id": "k9ffow2zsa1y",
        "colab_type": "text"
      },
      "source": [
        "## Target Encoding"
      ]
    },
    {
      "cell_type": "code",
      "metadata": {
        "id": "jp0I3r_E1UAB",
        "colab_type": "code",
        "colab": {}
      },
      "source": [
        "# Source: https://maxhalford.github.io/blog/target-encoding-done-the-right-way/\n",
        "def calc_smooth_mean(df1, df2, cat_name, target, weight):\n",
        "    # Compute the global mean\n",
        "    mean = df1[target].mean()\n",
        "\n",
        "    # Compute the number of values and the mean of each group\n",
        "    agg = df1.groupby(cat_name)[target].agg(['count', 'mean'])\n",
        "    counts = agg['count']\n",
        "    means = agg['mean']\n",
        "\n",
        "    # Compute the \"smoothed\" means\n",
        "    smooth = (counts * means + weight * mean) / (counts + weight)\n",
        "\n",
        "    # Replace each value by the according smoothed mean\n",
        "    if df2 is None:\n",
        "        return df1[cat_name].map(smooth)\n",
        "    else:\n",
        "        return df1[cat_name].map(smooth),df2[cat_name].map(smooth.to_dict())"
      ],
      "execution_count": 0,
      "outputs": []
    },
    {
      "cell_type": "code",
      "metadata": {
        "id": "XKbwP6WE1T71",
        "colab_type": "code",
        "colab": {}
      },
      "source": [
        "WEIGHT = 10\n",
        "train_df['Name_enc'],test_df['Name_enc'] = calc_smooth_mean(df1=train_df, df2=test_df, cat_name='Name', target='Price', weight=WEIGHT)\n",
        "train_df['Loc_enc'],test_df['Loc_enc'] = calc_smooth_mean(df1=train_df, df2=test_df, cat_name='Location', target='Price', weight=WEIGHT)\n",
        "train_df['Yr_enc'],test_df['Yr_enc'] = calc_smooth_mean(df1=train_df, df2=test_df, cat_name='Year', target='Price', weight=WEIGHT)"
      ],
      "execution_count": 0,
      "outputs": []
    },
    {
      "cell_type": "code",
      "metadata": {
        "id": "AHtHbWQ01T5b",
        "colab_type": "code",
        "colab": {}
      },
      "source": [
        "train_df.drop(['Name','Location','Year'],axis=1,inplace=True)\n",
        "test_df.drop(['Name','Location','Year'],axis=1,inplace=True)"
      ],
      "execution_count": 0,
      "outputs": []
    },
    {
      "cell_type": "code",
      "metadata": {
        "id": "C1SlGMYF1T3a",
        "colab_type": "code",
        "colab": {}
      },
      "source": [
        "train_df['owner_enc'],test_df['owner_enc'] = calc_smooth_mean(df1=train_df, df2=test_df, cat_name='Owner_Type', target='Price', weight=WEIGHT)\n",
        "train_df['trans_enc'],test_df['trans_enc'] = calc_smooth_mean(df1=train_df, df2=test_df, cat_name='Transmission', target='Price', weight=WEIGHT)"
      ],
      "execution_count": 0,
      "outputs": []
    },
    {
      "cell_type": "code",
      "metadata": {
        "id": "JJQbtkDI1T1T",
        "colab_type": "code",
        "colab": {}
      },
      "source": [
        "train_df.drop(['Transmission','Owner_Type'],axis=1,inplace=True)\n",
        "test_df.drop(['Transmission','Owner_Type'],axis=1,inplace=True)"
      ],
      "execution_count": 0,
      "outputs": []
    },
    {
      "cell_type": "code",
      "metadata": {
        "id": "yYhiK-s74H8X",
        "colab_type": "code",
        "colab": {}
      },
      "source": [
        "train_df['fuel_enc'],test_df['fuel_enc'] = calc_smooth_mean(df1=train_df, df2=test_df, cat_name='Fuel_Type', target='Price', weight=WEIGHT)"
      ],
      "execution_count": 0,
      "outputs": []
    },
    {
      "cell_type": "code",
      "metadata": {
        "id": "9O5i0mGB4mpG",
        "colab_type": "code",
        "colab": {}
      },
      "source": [
        "train_df.drop(['Fuel_Type'],axis=1,inplace=True)\n",
        "test_df.drop(['Fuel_Type'],axis=1,inplace=True)"
      ],
      "execution_count": 0,
      "outputs": []
    },
    {
      "cell_type": "code",
      "metadata": {
        "id": "Ddvhseu-6Nvp",
        "colab_type": "code",
        "outputId": "308821ee-8746-4783-eb8d-98ca2a906f1a",
        "colab": {
          "base_uri": "https://localhost:8080/",
          "height": 354
        }
      },
      "source": [
        "import numpy as np\n",
        "plt.figure(figsize=(10,5))\n",
        "sns.distplot(np.log(train_df['Engine']),label='train')\n",
        "sns.distplot(np.log(test_df['Engine']),label='test')\n",
        "plt.legend()"
      ],
      "execution_count": 24,
      "outputs": [
        {
          "output_type": "execute_result",
          "data": {
            "text/plain": [
              "<matplotlib.legend.Legend at 0x7fcd8e7ac1d0>"
            ]
          },
          "metadata": {
            "tags": []
          },
          "execution_count": 24
        },
        {
          "output_type": "display_data",
          "data": {
            "image/png": "[encoded data removed]",
            "text/plain": [
              "<Figure size 720x360 with 1 Axes>"
            ]
          },
          "metadata": {
            "tags": []
          }
        }
      ]
    },
    {
      "cell_type": "markdown",
      "metadata": {
        "id": "GDQoh9qrS1Va",
        "colab_type": "text"
      },
      "source": [
        "Train and test set have similar ditribution."
      ]
    },
    {
      "cell_type": "code",
      "metadata": {
        "id": "WpXpkjTxwtp1",
        "colab_type": "code",
        "outputId": "2d5eaf52-9a58-461b-bdc3-43a750010671",
        "colab": {
          "base_uri": "https://localhost:8080/",
          "height": 354
        }
      },
      "source": [
        "plt.figure(figsize=(10,5))\n",
        "sns.distplot(np.log(train_df['Power']),label='train')\n",
        "sns.distplot(np.log(test_df['Power']),label='test')\n",
        "plt.legend()"
      ],
      "execution_count": 25,
      "outputs": [
        {
          "output_type": "execute_result",
          "data": {
            "text/plain": [
              "<matplotlib.legend.Legend at 0x7fcd8d0132b0>"
            ]
          },
          "metadata": {
            "tags": []
          },
          "execution_count": 25
        },
        {
          "output_type": "display_data",
          "data": {
            "image/png": "[encoded data removed]",
            "text/plain": [
              "<Figure size 720x360 with 1 Axes>"
            ]
          },
          "metadata": {
            "tags": []
          }
        }
      ]
    },
    {
      "cell_type": "code",
      "metadata": {
        "id": "hW0I5QrxzJvU",
        "colab_type": "code",
        "colab": {}
      },
      "source": [
        "#converting : log transform\n",
        "train_df['Power']=np.log(train_df['Power'])\n",
        "train_df['Engine']=np.log(train_df['Engine'])"
      ],
      "execution_count": 0,
      "outputs": []
    },
    {
      "cell_type": "code",
      "metadata": {
        "id": "rUrQsTfO1fwc",
        "colab_type": "code",
        "colab": {}
      },
      "source": [
        "#converting : log transform\n",
        "test_df['Power']=np.log(test_df['Power'])\n",
        "test_df['Engine']=np.log(test_df['Engine'])"
      ],
      "execution_count": 0,
      "outputs": []
    },
    {
      "cell_type": "code",
      "metadata": {
        "id": "9KRrwvMF2PKD",
        "colab_type": "code",
        "outputId": "81879265-c9a1-49fc-fe81-e7192ca4eb8f",
        "colab": {
          "base_uri": "https://localhost:8080/",
          "height": 34
        }
      },
      "source": [
        "train_df.shape,test_df.shape"
      ],
      "execution_count": 28,
      "outputs": [
        {
          "output_type": "execute_result",
          "data": {
            "text/plain": [
              "((6019, 12), (1234, 11))"
            ]
          },
          "metadata": {
            "tags": []
          },
          "execution_count": 28
        }
      ]
    },
    {
      "cell_type": "code",
      "metadata": {
        "id": "b6erlW9h5yAo",
        "colab_type": "code",
        "colab": {
          "base_uri": "https://localhost:8080/",
          "height": 230
        },
        "outputId": "3f55144c-2b59-488c-bfdb-1b995807cb10"
      },
      "source": [
        "test_df.isnull().any()   \n",
        "#this checks if any column have missing values or not which is highly likely given the test set contains car that are\n",
        "#not present in train.  For these rows replacing them with 0 makes sense.\n",
        "\n",
        "# Name_enc and Yr_enc contains missing values."
      ],
      "execution_count": 29,
      "outputs": [
        {
          "output_type": "execute_result",
          "data": {
            "text/plain": [
              "Kilometers_Driven    False\n",
              "Mileage              False\n",
              "Engine               False\n",
              "Power                False\n",
              "Seats                False\n",
              "Name_enc              True\n",
              "Loc_enc              False\n",
              "Yr_enc                True\n",
              "owner_enc            False\n",
              "trans_enc            False\n",
              "fuel_enc             False\n",
              "dtype: bool"
            ]
          },
          "metadata": {
            "tags": []
          },
          "execution_count": 29
        }
      ]
    },
    {
      "cell_type": "code",
      "metadata": {
        "id": "x07QCHHA8fdJ",
        "colab_type": "code",
        "colab": {}
      },
      "source": [
        "test_df['Name_enc']=test_df['Name_enc'].fillna(0.0)\n",
        "test_df['Yr_enc']=test_df['Yr_enc'].fillna(0.0)"
      ],
      "execution_count": 0,
      "outputs": []
    },
    {
      "cell_type": "code",
      "metadata": {
        "id": "fu2NLAHN8s8c",
        "colab_type": "code",
        "colab": {}
      },
      "source": [
        "train_df.to_csv('final_train.csv')\n",
        "test_df.to_csv('final_test.csv')"
      ],
      "execution_count": 0,
      "outputs": []
    },
    {
      "cell_type": "code",
      "metadata": {
        "id": "IJcXHwxdhgYk",
        "colab_type": "code",
        "colab": {}
      },
      "source": [
        "target=train_df['Price']\n",
        "train_df.drop(['Price'],inplace=True,axis=1)"
      ],
      "execution_count": 0,
      "outputs": []
    },
    {
      "cell_type": "code",
      "metadata": {
        "id": "aMjtPDsi9KsA",
        "colab_type": "code",
        "outputId": "2049097a-6ac9-4d8e-ef90-6221990b8d7b",
        "colab": {
          "base_uri": "https://localhost:8080/",
          "height": 70
        }
      },
      "source": [
        "train_df.columns"
      ],
      "execution_count": 33,
      "outputs": [
        {
          "output_type": "execute_result",
          "data": {
            "text/plain": [
              "Index(['Kilometers_Driven', 'Mileage', 'Engine', 'Power', 'Seats', 'Name_enc',\n",
              "       'Loc_enc', 'Yr_enc', 'owner_enc', 'trans_enc', 'fuel_enc'],\n",
              "      dtype='object')"
            ]
          },
          "metadata": {
            "tags": []
          },
          "execution_count": 33
        }
      ]
    },
    {
      "cell_type": "code",
      "metadata": {
        "id": "oVcCytcMR4hJ",
        "colab_type": "code",
        "outputId": "ad8ccdf2-7903-411e-a048-39b5a514a9f5",
        "colab": {
          "base_uri": "https://localhost:8080/",
          "height": 34
        }
      },
      "source": [
        "train_df=pd.read_csv('train.csv')\n",
        "test_df=pd.read_csv('test.csv')\n",
        "train_df.shape,test_df.shape"
      ],
      "execution_count": 34,
      "outputs": [
        {
          "output_type": "execute_result",
          "data": {
            "text/plain": [
              "((6019, 13), (1234, 12))"
            ]
          },
          "metadata": {
            "tags": []
          },
          "execution_count": 34
        }
      ]
    },
    {
      "cell_type": "code",
      "metadata": {
        "id": "yobD9jZCSok-",
        "colab_type": "code",
        "colab": {}
      },
      "source": [
        "train_df.drop(['Unnamed: 0'],axis=1,inplace=True)\n",
        "test_df.drop(['Unnamed: 0'],axis=1,inplace=True)"
      ],
      "execution_count": 0,
      "outputs": []
    },
    {
      "cell_type": "code",
      "metadata": {
        "id": "6evF_MC8S1DI",
        "colab_type": "code",
        "colab": {}
      },
      "source": [
        "test_df['Name_enc'].fillna(test_df['Name_enc'].mean(),inplace=True)\n",
        "test_df['Yr_enc'].fillna(test_df['Yr_enc'].mean(),inplace=True)"
      ],
      "execution_count": 0,
      "outputs": []
    },
    {
      "cell_type": "code",
      "metadata": {
        "id": "8jiIXJ-OUXn0",
        "colab_type": "code",
        "colab": {}
      },
      "source": [
        "target=train_df['Price']\n",
        "train_df.drop(['Price'],inplace=True,axis=1)"
      ],
      "execution_count": 0,
      "outputs": []
    },
    {
      "cell_type": "code",
      "metadata": {
        "id": "6XYA-Ek1V0-D",
        "colab_type": "code",
        "colab": {}
      },
      "source": [
        "train_df=train_df.values"
      ],
      "execution_count": 0,
      "outputs": []
    },
    {
      "cell_type": "code",
      "metadata": {
        "id": "t2BKNe-EV30a",
        "colab_type": "code",
        "colab": {}
      },
      "source": [
        "test_df=test_df.values"
      ],
      "execution_count": 0,
      "outputs": []
    },
    {
      "cell_type": "markdown",
      "metadata": {
        "id": "UemzdYL2R6J-",
        "colab_type": "text"
      },
      "source": [
        "## Modelling\n",
        "### Random Forest"
      ]
    },
    {
      "cell_type": "code",
      "metadata": {
        "id": "ozIGKEtN-n1E",
        "colab_type": "code",
        "colab": {}
      },
      "source": [
        "from sklearn.model_selection import RandomizedSearchCV\n",
        "from pprint import pprint\n",
        "n_estimators = [int(x) for x in np.linspace(start = 100, stop = 500, num = 5)]\n",
        "max_features = ['auto', 'sqrt']\n",
        "max_depth = [int(x) for x in np.linspace(50, 110, num = 5)]\n",
        "max_depth.append(None)\n",
        "min_samples_split = [2, 5, 10]\n",
        "min_samples_leaf = [1, 2, 4]\n",
        "# Method of selecting samples for training each tree\n",
        "bootstrap = [True, False]\n",
        "# Create the random grid\n",
        "random_grid = {'n_estimators': n_estimators,\n",
        "               'max_features': max_features,\n",
        "               'max_depth': max_depth,\n",
        "               'min_samples_split': min_samples_split,\n",
        "               'min_samples_leaf': min_samples_leaf,\n",
        "               'bootstrap': bootstrap}\n",
        "pprint(random_grid)"
      ],
      "execution_count": 0,
      "outputs": []
    },
    {
      "cell_type": "code",
      "metadata": {
        "id": "VtuW90eX-yZW",
        "colab_type": "code",
        "outputId": "7420c7c1-88c5-4658-bf7a-4883b06f6f7c",
        "colab": {
          "base_uri": "https://localhost:8080/",
          "height": 105
        }
      },
      "source": [
        "from sklearn.ensemble import RandomForestRegressor\n",
        "from sklearn.metrics import make_scorer,mean_squared_error\n",
        "rf=RandomForestRegressor(max_depth=110,n_estimators=400,min_samples_leaf=2,min_samples_split=2,max_features='auto')\n",
        "kf=KFold(shuffle=True,random_state=123,n_splits=5)\n",
        "splits=kf.split(train_df,target)\n",
        "rmse_kf=[]\n",
        "for trainIndex,valIndex in splits:\n",
        "  X_train,X_val=train_df[trainIndex],train_df[valIndex]\n",
        "  y_train,y_val=target[trainIndex],target[valIndex]\n",
        "  rf.fit(X_train,y_train)\n",
        "  preds=rf.predict(X_val)\n",
        "  rmse_kf.append(mean_squared_error(y_val, preds))\n",
        "  print(\"Split rmse: \" + str(mean_squared_error(y_val, preds)))  "
      ],
      "execution_count": 0,
      "outputs": [
        {
          "output_type": "stream",
          "text": [
            "Split rmse: 8.105825093432504\n",
            "Split rmse: 21.45291178981759\n",
            "Split rmse: 8.448427684983082\n",
            "Split rmse: 13.342331620730329\n",
            "Split rmse: 11.001473689106348\n"
          ],
          "name": "stdout"
        }
      ]
    },
    {
      "cell_type": "code",
      "metadata": {
        "id": "e-xzrclPX8xp",
        "colab_type": "code",
        "outputId": "7ca6012f-e3ec-4148-8d0c-61bdf779d6a3",
        "colab": {
          "base_uri": "https://localhost:8080/",
          "height": 34
        }
      },
      "source": [
        "np.array(rmse_kf).mean()   #mean mse for randomforest regressor after tuning"
      ],
      "execution_count": 0,
      "outputs": [
        {
          "output_type": "execute_result",
          "data": {
            "text/plain": [
              "12.47019397561397"
            ]
          },
          "metadata": {
            "tags": []
          },
          "execution_count": 9
        }
      ]
    },
    {
      "cell_type": "code",
      "metadata": {
        "id": "lw7kSeydmjtr",
        "colab_type": "code",
        "colab": {}
      },
      "source": [
        "rf=RandomForestRegressor(max_depth=110,n_estimators=400,min_samples_leaf=2,min_samples_split=2,max_features='auto')\n",
        "rf.fit(train_df,target)\n",
        "preds_rf=rf.predict(test_df)"
      ],
      "execution_count": 0,
      "outputs": []
    },
    {
      "cell_type": "markdown",
      "metadata": {
        "id": "vQnMWzQsa8jg",
        "colab_type": "text"
      },
      "source": [
        "### XGboost"
      ]
    },
    {
      "cell_type": "code",
      "metadata": {
        "id": "skp-OS2YYN-c",
        "colab_type": "code",
        "colab": {}
      },
      "source": [
        "from xgboost import XGBRegressor\n",
        "import xgboost as xgb\n",
        "import warnings\n",
        "warnings.filterwarnings('ignore')\n",
        "xgtrain = xgb.DMatrix(train_df, label=target.values)\n",
        "\n",
        "#finding numof boosting rounds and learning rate\n",
        "alg = XGBRegressor(\n",
        " learning_rate =0.1,\n",
        " n_estimators=1000,\n",
        " max_depth=5,\n",
        " min_child_weight=1,\n",
        " gamma=0,\n",
        " subsample=0.8,\n",
        " colsample_bytree=0.8,\n",
        " objective= 'reg:squarederror',\n",
        " seed=27)\n",
        "\n",
        "xgb_param = alg.get_xgb_params()\n",
        "\n",
        "cvresult = xgb.cv(xgb_param, xgtrain, num_boost_round=alg.get_params()['n_estimators'], nfold=5,metrics='rmse', early_stopping_rounds=50)"
      ],
      "execution_count": 0,
      "outputs": []
    },
    {
      "cell_type": "code",
      "metadata": {
        "id": "l70bKpo0YN2S",
        "colab_type": "code",
        "colab": {}
      },
      "source": [
        "n_estimators = cvresult.shape[0]"
      ],
      "execution_count": 0,
      "outputs": []
    },
    {
      "cell_type": "code",
      "metadata": {
        "id": "hPNHc-kPj5gy",
        "colab_type": "code",
        "outputId": "65ec9552-dd5c-4ff7-f242-246e6a67ea42",
        "colab": {
          "base_uri": "https://localhost:8080/",
          "height": 34
        }
      },
      "source": [
        "param_test1 = {\n",
        " 'max_depth':range(3,10,2),\n",
        " 'min_child_weight':range(1,6,2)\n",
        "}\n",
        "\n",
        "gsearch1 = GridSearchCV(estimator = XGBRegressor( learning_rate =0.1, n_estimators=n_estimators, max_depth=5,\n",
        " min_child_weight=1, gamma=0, subsample=0.8, colsample_bytree=0.8,\n",
        " objective= 'reg:squarederror', nthread=4, seed=27), \n",
        " param_grid = param_test1, scoring=make_scorer(mean_squared_error),n_jobs=4,iid=False, cv=5)\n",
        "gsearch1.fit(train_df,target)\n",
        "gsearch1.best_params_, gsearch1.best_score_"
      ],
      "execution_count": 0,
      "outputs": [
        {
          "output_type": "execute_result",
          "data": {
            "text/plain": [
              "({'max_depth': 9, 'min_child_weight': 1}, 13.193760046385544)"
            ]
          },
          "metadata": {
            "tags": []
          },
          "execution_count": 60
        }
      ]
    },
    {
      "cell_type": "code",
      "metadata": {
        "id": "anBG3WuChYDm",
        "colab_type": "code",
        "outputId": "3a17c0b7-5bd4-49fe-8997-6692c0ac83a1",
        "colab": {
          "base_uri": "https://localhost:8080/",
          "height": 34
        }
      },
      "source": [
        "param_test2b = {\n",
        " 'max_depth':[13,15,16],  \n",
        "}\n",
        "gsearch2 = GridSearchCV(estimator = XGBRegressor( learning_rate =0.1, n_estimators=n_estimators, max_depth=5,\n",
        " min_child_weight=1, gamma=0, subsample=0.8, colsample_bytree=0.8,\n",
        " objective= 'reg:squarederror', nthread=4, seed=27), \n",
        " param_grid = param_test2b, scoring=make_scorer(mean_squared_error),n_jobs=4,iid=False, cv=5)\n",
        "gsearch2.fit(train_df,target)\n",
        "gsearch2.best_params_, gsearch2.best_score_"
      ],
      "execution_count": 0,
      "outputs": [
        {
          "output_type": "execute_result",
          "data": {
            "text/plain": [
              "({'max_depth': 13}, 13.539070192248479)"
            ]
          },
          "metadata": {
            "tags": []
          },
          "execution_count": 28
        }
      ]
    },
    {
      "cell_type": "code",
      "metadata": {
        "id": "qBU3szmFetPj",
        "colab_type": "code",
        "outputId": "4c43d4e6-b1b7-4ffc-a23c-0730322eb2c3",
        "colab": {
          "base_uri": "https://localhost:8080/",
          "height": 34
        }
      },
      "source": [
        "param_test3 = {\n",
        " 'gamma':[i/10.0 for i in range(0,5)]\n",
        "}\n",
        "gsearch3 = GridSearchCV(estimator = XGBRegressor( learning_rate =0.1, n_estimators=n_estimators, max_depth=13,\n",
        " min_child_weight=1, gamma=0, subsample=0.8, colsample_bytree=0.8,\n",
        " objective= 'reg:squarederror', nthread=4, seed=27), \n",
        " param_grid = param_test3, scoring=make_scorer(mean_squared_error),n_jobs=4,iid=False, cv=5)\n",
        "gsearch3.fit(train_df,target)\n",
        "gsearch3.best_params_, gsearch3.best_score_"
      ],
      "execution_count": 0,
      "outputs": [
        {
          "output_type": "execute_result",
          "data": {
            "text/plain": [
              "({'gamma': 0.1}, 13.703878477961421)"
            ]
          },
          "metadata": {
            "tags": []
          },
          "execution_count": 30
        }
      ]
    },
    {
      "cell_type": "code",
      "metadata": {
        "id": "wIZZEBiiiSYU",
        "colab_type": "code",
        "colab": {}
      },
      "source": [
        "alg = XGBRegressor(\n",
        " learning_rate =0.1,\n",
        " n_estimators=1000,\n",
        " max_depth=13,\n",
        " min_child_weight=1,\n",
        " gamma=0.1,\n",
        " subsample=0.8,\n",
        " colsample_bytree=0.8,\n",
        " objective= 'reg:squarederror',\n",
        " seed=27)\n",
        "\n",
        "xgb_param = alg.get_xgb_params()\n",
        "\n",
        "cvresult = xgb.cv(xgb_param, xgtrain, num_boost_round=alg.get_params()['n_estimators'], nfold=5,metrics='rmse', early_stopping_rounds=50)"
      ],
      "execution_count": 0,
      "outputs": []
    },
    {
      "cell_type": "code",
      "metadata": {
        "id": "QAsGkQG6jAWn",
        "colab_type": "code",
        "outputId": "abb39c28-f4bd-4b0f-aa31-f4ba72a1d4c6",
        "colab": {
          "base_uri": "https://localhost:8080/",
          "height": 105
        }
      },
      "source": [
        "n_estimators=cvresult.shape[0]\n",
        "\n",
        "xgb_reg=XGBRegressor(max_depth=13,learning_rate=0.1,n_estimators=213,objective='reg:squarederror',gamma=0.1,min_child_weight=1,seed=123)\n",
        "kf=KFold(shuffle=True,random_state=123,n_splits=5)\n",
        "splits=kf.split(train_df,target)\n",
        "rmse_kf=[]\n",
        "for trainIndex,valIndex in splits:\n",
        "  X_train,X_val=train_df[trainIndex],train_df[valIndex]\n",
        "  y_train,y_val=target[trainIndex],target[valIndex]\n",
        "  xgb_reg.fit(X_train,y_train)\n",
        "  preds=xgb_reg.predict(X_val)\n",
        "  rmse_kf.append(mean_squared_error(y_val, preds))\n",
        "  print(\"Split mse: \" + str(mean_squared_error(y_val, preds))) "
      ],
      "execution_count": 0,
      "outputs": [
        {
          "output_type": "stream",
          "text": [
            "Split mse: 9.310190830582904\n",
            "Split mse: 22.723361841009062\n",
            "Split mse: 9.58929462713044\n",
            "Split mse: 13.664674899885092\n",
            "Split mse: 9.587979183812418\n"
          ],
          "name": "stdout"
        }
      ]
    },
    {
      "cell_type": "code",
      "metadata": {
        "id": "iPjlK2tdjKKC",
        "colab_type": "code",
        "outputId": "b3db17c7-8a63-4b53-b833-735358fe4448",
        "colab": {
          "base_uri": "https://localhost:8080/",
          "height": 34
        }
      },
      "source": [
        "np.array(rmse_kf).mean()"
      ],
      "execution_count": 0,
      "outputs": [
        {
          "output_type": "execute_result",
          "data": {
            "text/plain": [
              "12.975100276483982"
            ]
          },
          "metadata": {
            "tags": []
          },
          "execution_count": 37
        }
      ]
    },
    {
      "cell_type": "markdown",
      "metadata": {
        "id": "4WJtIEVeiF4X",
        "colab_type": "text"
      },
      "source": [
        "We will tune the subsample and colsample_bytree parameters with values separated by 0.1 in first step"
      ]
    },
    {
      "cell_type": "code",
      "metadata": {
        "id": "Y9qpp2ZajLTu",
        "colab_type": "code",
        "outputId": "35bdeac6-3f26-4d88-a334-03fa9057a8e1",
        "colab": {
          "base_uri": "https://localhost:8080/",
          "height": 34
        }
      },
      "source": [
        "param_test4 = {\n",
        " 'subsample':[i/10.0 for i in range(6,10)],\n",
        " 'colsample_bytree':[i/10.0 for i in range(6,10)]\n",
        "}\n",
        "gsearch4 = GridSearchCV(estimator = XGBRegressor( learning_rate =0.1, n_estimators=n_estimators, max_depth=13,\n",
        " min_child_weight=1, gamma=0, subsample=0.8, colsample_bytree=0.8,\n",
        " objective= 'reg:squarederror', nthread=4, seed=27), \n",
        " param_grid = param_test4, scoring=make_scorer(mean_squared_error),n_jobs=4,iid=False, cv=5)\n",
        "gsearch4.fit(train_df,target)\n",
        "gsearch4.best_params_, gsearch4.best_score_"
      ],
      "execution_count": 0,
      "outputs": [
        {
          "output_type": "execute_result",
          "data": {
            "text/plain": [
              "({'colsample_bytree': 0.8, 'subsample': 0.9}, 14.021913846662377)"
            ]
          },
          "metadata": {
            "tags": []
          },
          "execution_count": 38
        }
      ]
    },
    {
      "cell_type": "markdown",
      "metadata": {
        "id": "WHD5j3ini8Wy",
        "colab_type": "text"
      },
      "source": [
        "We will tune the subsample and colsample_bytree parameters with values separated by 0.05 in first step"
      ]
    },
    {
      "cell_type": "code",
      "metadata": {
        "id": "XohV8GThjqKZ",
        "colab_type": "code",
        "outputId": "5fd33f46-9739-43d2-8771-e02236c605d3",
        "colab": {
          "base_uri": "https://localhost:8080/",
          "height": 34
        }
      },
      "source": [
        "param_test4b = {\n",
        " 'colsample_bytree':[i/100.0 for i in range(75,100,5)]\n",
        "}\n",
        "gsearch5 = GridSearchCV(estimator = XGBRegressor( learning_rate =0.1, n_estimators=n_estimators, max_depth=13,\n",
        " min_child_weight=1, gamma=0, subsample=0.8, colsample_bytree=0.8,\n",
        " objective= 'reg:squarederror', nthread=4, seed=27), \n",
        " param_grid = param_test4b, scoring=make_scorer(mean_squared_error),n_jobs=4,iid=False, cv=5)\n",
        "gsearch5.fit(train_df,target)\n",
        "gsearch5.best_params_, gsearch5.best_score_"
      ],
      "execution_count": 0,
      "outputs": [
        {
          "output_type": "execute_result",
          "data": {
            "text/plain": [
              "({'colsample_bytree': 0.95, 'subsample': 0.9}, 14.367898672389462)"
            ]
          },
          "metadata": {
            "tags": []
          },
          "execution_count": 44
        }
      ]
    },
    {
      "cell_type": "code",
      "metadata": {
        "id": "_CXE46SukC84",
        "colab_type": "code",
        "outputId": "e841a895-5fdd-4bd3-cef1-f498ac8e64a5",
        "colab": {
          "base_uri": "https://localhost:8080/",
          "height": 34
        }
      },
      "source": [
        "param_test4b = {\n",
        " 'colsample_bytree':[0.95,1]\n",
        "}\n",
        "gsearch5 = GridSearchCV(estimator = XGBRegressor( learning_rate =0.1, n_estimators=n_estimators, max_depth=13,\n",
        " min_child_weight=1, gamma=0, subsample=0.9, colsample_bytree=0.8,\n",
        " objective= 'reg:squarederror', nthread=4, seed=27), \n",
        " param_grid = param_test4b, scoring=make_scorer(mean_squared_error),n_jobs=4,iid=False, cv=5)\n",
        "gsearch5.fit(train_df,target)\n",
        "gsearch5.best_params_, gsearch5.best_score_"
      ],
      "execution_count": 0,
      "outputs": [
        {
          "output_type": "execute_result",
          "data": {
            "text/plain": [
              "({'colsample_bytree': 1}, 14.60095288925397)"
            ]
          },
          "metadata": {
            "tags": []
          },
          "execution_count": 45
        }
      ]
    },
    {
      "cell_type": "code",
      "metadata": {
        "id": "pgRvVwBgj6Ma",
        "colab_type": "code",
        "outputId": "0478aa7d-180b-40f5-9a8c-06a3b8015719",
        "colab": {
          "base_uri": "https://localhost:8080/",
          "height": 105
        }
      },
      "source": [
        "xgb_reg=XGBRegressor(max_depth=13,learning_rate=0.1,n_estimators=213,objective='reg:squarederror',gamma=0.1,min_child_weight=1,colsample_bytree=1,subsample=0.9,seed=123)\n",
        "kf=KFold(shuffle=True,random_state=123,n_splits=5)\n",
        "splits=kf.split(train_df,target)\n",
        "rmse_kf=[]\n",
        "for trainIndex,valIndex in splits:\n",
        "  X_train,X_val=train_df[trainIndex],train_df[valIndex]\n",
        "  y_train,y_val=target[trainIndex],target[valIndex]\n",
        "  xgb_reg.fit(X_train,y_train)\n",
        "  preds=xgb_reg.predict(X_val)\n",
        "  rmse_kf.append(mean_squared_error(y_val, preds))\n",
        "  print(\"Split mse: \" + str(mean_squared_error(y_val, preds))) "
      ],
      "execution_count": 0,
      "outputs": [
        {
          "output_type": "stream",
          "text": [
            "Split mse: 8.289705671432907\n",
            "Split mse: 22.23121698445265\n",
            "Split mse: 8.35179180525996\n",
            "Split mse: 15.56560684475996\n",
            "Split mse: 9.492606094269284\n"
          ],
          "name": "stdout"
        }
      ]
    },
    {
      "cell_type": "code",
      "metadata": {
        "id": "qEOx1ERhkoAh",
        "colab_type": "code",
        "outputId": "e5602d58-a0a2-49ef-f792-c659ed95ad26",
        "colab": {
          "base_uri": "https://localhost:8080/",
          "height": 34
        }
      },
      "source": [
        "np.array(rmse_kf).mean()   #a slight reduction"
      ],
      "execution_count": 0,
      "outputs": [
        {
          "output_type": "execute_result",
          "data": {
            "text/plain": [
              "12.786185480034954"
            ]
          },
          "metadata": {
            "tags": []
          },
          "execution_count": 47
        }
      ]
    },
    {
      "cell_type": "code",
      "metadata": {
        "id": "gl72zEjgk_BF",
        "colab_type": "code",
        "outputId": "a7d70f27-a265-4b05-b8e6-e80e2dc06890",
        "colab": {
          "base_uri": "https://localhost:8080/",
          "height": 34
        }
      },
      "source": [
        "param_test7 = {\n",
        " 'reg_alpha':[0, 0.001, 0.005, 0.01, 0.05]\n",
        "}\n",
        "gsearch6 = GridSearchCV(estimator = XGBRegressor( learning_rate =0.1, n_estimators=n_estimators, max_depth=13,\n",
        " min_child_weight=1, gamma=0.1, subsample=0.9, colsample_bytree=1,\n",
        " objective= 'reg:squarederror', nthread=4, reg_alpha=0 , seed=27), \n",
        " param_grid = param_test7, scoring=make_scorer(mean_squared_error),n_jobs=4,iid=False, cv=5)\n",
        "gsearch6.fit(train_df,target)\n",
        "gsearch6.best_params_, gsearch6.best_score_"
      ],
      "execution_count": 0,
      "outputs": [
        {
          "output_type": "execute_result",
          "data": {
            "text/plain": [
              "({'reg_alpha': 0}, 14.720278028118372)"
            ]
          },
          "metadata": {
            "tags": []
          },
          "execution_count": 48
        }
      ]
    },
    {
      "cell_type": "code",
      "metadata": {
        "id": "MF4mX520lKUb",
        "colab_type": "code",
        "outputId": "bef192fd-1902-41fd-a3f0-427e3c062bac",
        "colab": {
          "base_uri": "https://localhost:8080/",
          "height": 123
        }
      },
      "source": [
        "xgb_reg=XGBRegressor(max_depth=13,learning_rate=0.1,n_estimators=213,objective='reg:squarederror',gamma=0.1,min_child_weight=1,colsample_bytree=1,subsample=0.9,seed=123,reg_alpha=0)\n",
        "kf=KFold(shuffle=True,random_state=123,n_splits=5)\n",
        "splits=kf.split(train_df,target)\n",
        "rmse_kf=[]\n",
        "for trainIndex,valIndex in splits:\n",
        "  X_train,X_val=train_df[trainIndex],train_df[valIndex]\n",
        "  y_train,y_val=target[trainIndex],target[valIndex]\n",
        "  xgb_reg.fit(X_train,y_train)\n",
        "  preds=xgb_reg.predict(X_val)\n",
        "  rmse_kf.append(mean_squared_error(y_val, preds))\n",
        "  print(\"Split mse: \" + str(mean_squared_error(y_val, preds))) \n",
        "np.array(rmse_kf).mean()   #a slight reduction  "
      ],
      "execution_count": 0,
      "outputs": [
        {
          "output_type": "stream",
          "text": [
            "Split mse: 8.289705671432907\n",
            "Split mse: 22.23121698445265\n",
            "Split mse: 8.35179180525996\n",
            "Split mse: 15.56560684475996\n",
            "Split mse: 9.492606094269284\n"
          ],
          "name": "stdout"
        },
        {
          "output_type": "execute_result",
          "data": {
            "text/plain": [
              "12.786185480034954"
            ]
          },
          "metadata": {
            "tags": []
          },
          "execution_count": 12
        }
      ]
    },
    {
      "cell_type": "code",
      "metadata": {
        "id": "GOVV1HN8lynH",
        "colab_type": "code",
        "colab": {}
      },
      "source": [
        "xgb_reg=XGBRegressor(max_depth=13,learning_rate=0.1,n_estimators=213,objective='reg:squarederror',gamma=0.1,min_child_weight=1,colsample_bytree=1,subsample=0.9,seed=123,reg_alpha=0)\n",
        "xgb_reg.fit(train_df,target)\n",
        "preds_xgb=xgb_reg.predict(test_df)"
      ],
      "execution_count": 0,
      "outputs": []
    },
    {
      "cell_type": "code",
      "metadata": {
        "id": "O9FfyqBxl9Rp",
        "colab_type": "code",
        "outputId": "081f009f-b004-4369-f933-7bfe4d2c52a2",
        "colab": {
          "base_uri": "https://localhost:8080/",
          "height": 34
        }
      },
      "source": [
        "preds_rf[:5]"
      ],
      "execution_count": 0,
      "outputs": [
        {
          "output_type": "execute_result",
          "data": {
            "text/plain": [
              "array([ 3.34405004,  3.07141296, 17.73206411,  4.0449367 ,  4.46441165])"
            ]
          },
          "metadata": {
            "tags": []
          },
          "execution_count": 14
        }
      ]
    },
    {
      "cell_type": "code",
      "metadata": {
        "id": "AmcA_-5AmNmJ",
        "colab_type": "code",
        "outputId": "fd52811b-acaf-45ee-ee61-eedbec3d2b3d",
        "colab": {
          "base_uri": "https://localhost:8080/",
          "height": 52
        }
      },
      "source": [
        "preds_xgb[:5]"
      ],
      "execution_count": 0,
      "outputs": [
        {
          "output_type": "execute_result",
          "data": {
            "text/plain": [
              "array([ 3.4443724,  3.0317767, 17.987188 ,  4.402149 ,  4.4060755],\n",
              "      dtype=float32)"
            ]
          },
          "metadata": {
            "tags": []
          },
          "execution_count": 15
        }
      ]
    },
    {
      "cell_type": "code",
      "metadata": {
        "id": "stt-OIUVm0A1",
        "colab_type": "code",
        "colab": {}
      },
      "source": [
        "submit=pd.read_excel('0.77.xlsx')"
      ],
      "execution_count": 0,
      "outputs": []
    },
    {
      "cell_type": "code",
      "metadata": {
        "id": "APPYw8kWnArF",
        "colab_type": "code",
        "colab": {}
      },
      "source": [
        "submit['Price']=(preds_xgb+preds_rf)/2"
      ],
      "execution_count": 0,
      "outputs": []
    },
    {
      "cell_type": "code",
      "metadata": {
        "id": "qULytv4BnBk3",
        "colab_type": "code",
        "colab": {}
      },
      "source": [
        "submit.to_csv('rf+xgb.csv')"
      ],
      "execution_count": 0,
      "outputs": []
    },
    {
      "cell_type": "markdown",
      "metadata": {
        "id": "82wHZxcSsFIB",
        "colab_type": "text"
      },
      "source": [
        "### LightGBM"
      ]
    },
    {
      "cell_type": "code",
      "metadata": {
        "id": "MkrSEBYqpSMb",
        "colab_type": "code",
        "colab": {}
      },
      "source": [
        "import lightgbm as lgb"
      ],
      "execution_count": 0,
      "outputs": []
    },
    {
      "cell_type": "code",
      "metadata": {
        "id": "_3GMZOWknPTi",
        "colab_type": "code",
        "colab": {}
      },
      "source": [
        "params = {\n",
        "    'boosting_type': 'gbdt',\n",
        "    'objective': 'regression',\n",
        "    'metric': 'mse',\n",
        "    'max_depth': 6, \n",
        "    'learning_rate': 0.1,\n",
        "    'verbose': 0, \n",
        "    'early_stopping_round': 50}\n",
        "n_estimators = 1000\n",
        "\n",
        "lgb_train=lgb.Dataset(train_df,label=target)\n",
        "cvresult=lgb.cv(params,lgb_train,num_boost_round=n_estimators,nfold=5,stratified=False,seed=123)"
      ],
      "execution_count": 0,
      "outputs": []
    },
    {
      "cell_type": "code",
      "metadata": {
        "id": "AN82VJI5gEmq",
        "colab_type": "code",
        "outputId": "c8f48e5c-d6d8-4386-df49-7810f4fa4826",
        "colab": {
          "base_uri": "https://localhost:8080/",
          "height": 34
        }
      },
      "source": [
        "len(cvresult['l2-mean'])  "
      ],
      "execution_count": 0,
      "outputs": [
        {
          "output_type": "execute_result",
          "data": {
            "text/plain": [
              "305"
            ]
          },
          "metadata": {
            "tags": []
          },
          "execution_count": 34
        }
      ]
    },
    {
      "cell_type": "code",
      "metadata": {
        "id": "7gsH7Secgt2S",
        "colab_type": "code",
        "colab": {}
      },
      "source": [
        "n_estimators=305"
      ],
      "execution_count": 0,
      "outputs": []
    },
    {
      "cell_type": "code",
      "metadata": {
        "id": "KLSlNh5JhP8k",
        "colab_type": "code",
        "outputId": "2eef0cdc-6acb-4274-f984-233227571cd7",
        "colab": {
          "base_uri": "https://localhost:8080/",
          "height": 34
        }
      },
      "source": [
        "param_test1 = {\n",
        " 'max_depth':range(3,10,2),\n",
        "}\n",
        "\n",
        "lgb_reg=lgb.LGBMRegressor(objective='regression',learning_rate=0.1,n_estimators=n_estimators,max_depth=8,metric='mse')\n",
        "gsearch1 = GridSearchCV(param_grid=param_test1,estimator = lgb_reg,n_jobs=4,iid=False, cv=5)\n",
        "gsearch1.fit(train_df,target)\n",
        "gsearch1.best_params_, gsearch1.best_score_"
      ],
      "execution_count": 0,
      "outputs": [
        {
          "output_type": "execute_result",
          "data": {
            "text/plain": [
              "({'max_depth': 7}, 0.9047489453458167)"
            ]
          },
          "metadata": {
            "tags": []
          },
          "execution_count": 21
        }
      ]
    },
    {
      "cell_type": "code",
      "metadata": {
        "id": "5FmbGEZiNC8D",
        "colab_type": "code",
        "outputId": "3aa59ec8-ee37-44b2-cb93-01bfa66080dc",
        "colab": {
          "base_uri": "https://localhost:8080/",
          "height": 34
        }
      },
      "source": [
        "param_test2 = {\n",
        " 'num_leaves':[70,80,90,100]\n",
        "}\n",
        "lgb_reg=lgb.LGBMRegressor(objective='regression',learning_rate=0.1,n_estimators=n_estimators,max_depth=7,metric='mse',num_leaves=31)\n",
        "gsearch2 = GridSearchCV(param_grid=param_test2,estimator = lgb_reg,n_jobs=4,iid=False, cv=5)\n",
        "gsearch2.fit(train_df,target)\n",
        "gsearch2.best_params_, gsearch2.best_score_"
      ],
      "execution_count": 0,
      "outputs": [
        {
          "output_type": "execute_result",
          "data": {
            "text/plain": [
              "({'num_leaves': 70}, 0.9024262916374275)"
            ]
          },
          "metadata": {
            "tags": []
          },
          "execution_count": 22
        }
      ]
    },
    {
      "cell_type": "code",
      "metadata": {
        "id": "gvEaQtHmN6ZC",
        "colab_type": "code",
        "colab": {}
      },
      "source": [
        "params = {\n",
        "    'boosting_type': 'gbdt',\n",
        "    'objective': 'regression',\n",
        "    'metric': 'mse',\n",
        "    'max_depth': 7,\n",
        "    'num_leaves':70,\n",
        "    'learning_rate': 0.1,\n",
        "    'verbose': 0, \n",
        "    'early_stopping_round': 50}\n",
        "n_estimators = 1000\n",
        "\n",
        "lgb_train=lgb.Dataset(train_df,label=target)\n",
        "cvresult=lgb.cv(params,lgb_train,num_boost_round=n_estimators,nfold=5,stratified=False,seed=123)"
      ],
      "execution_count": 0,
      "outputs": []
    },
    {
      "cell_type": "code",
      "metadata": {
        "id": "shv0IdIcOphZ",
        "colab_type": "code",
        "colab": {}
      },
      "source": [
        "n_estimators=len(cvresult['l2-mean'])"
      ],
      "execution_count": 0,
      "outputs": []
    },
    {
      "cell_type": "code",
      "metadata": {
        "id": "mcMqFuMbOroq",
        "colab_type": "code",
        "outputId": "f4ff7191-d062-4c94-c326-e80859519b18",
        "colab": {
          "base_uri": "https://localhost:8080/",
          "height": 123
        }
      },
      "source": [
        "lgb_reg=lgb.LGBMRegressor(boosting_type='gbdt',objective='regression',learning_rate=0.1,n_estimators=n_estimators,max_depth=7,metric='mse',num_leaves=70)\n",
        "kf=KFold(shuffle=True,random_state=123,n_splits=5)\n",
        "splits=kf.split(train_df,target)\n",
        "rmse_kf=[]\n",
        "for trainIndex,valIndex in splits:\n",
        "  X_train,X_val=train_df[trainIndex],train_df[valIndex]\n",
        "  y_train,y_val=target[trainIndex],target[valIndex]\n",
        "  lgb_reg.fit(X_train,y_train)\n",
        "  preds=lgb_reg.predict(X_val)\n",
        "  rmse_kf.append(mean_squared_error(y_val, preds))\n",
        "  print(\"Split mse: \" + str(mean_squared_error(y_val, preds))) \n",
        "np.array(rmse_kf).mean()   #a slight reduction  "
      ],
      "execution_count": 0,
      "outputs": [
        {
          "output_type": "stream",
          "text": [
            "Split mse: 8.081414692059075\n",
            "Split mse: 16.289148831361942\n",
            "Split mse: 7.801964684890716\n",
            "Split mse: 13.195371529819221\n",
            "Split mse: 10.155458551273023\n"
          ],
          "name": "stdout"
        },
        {
          "output_type": "execute_result",
          "data": {
            "text/plain": [
              "11.104671657880795"
            ]
          },
          "metadata": {
            "tags": []
          },
          "execution_count": 33
        }
      ]
    },
    {
      "cell_type": "code",
      "metadata": {
        "id": "qEx0B5AOPDmu",
        "colab_type": "code",
        "colab": {}
      },
      "source": [
        "lgb_reg=lgb.LGBMRegressor(boosting_type='gbdt',objective='regression',learning_rate=0.1,n_estimators=n_estimators,max_depth=7,metric='mse',num_leaves=70)\n",
        "lgb_reg.fit(train_df,target)\n",
        "preds_lgb=lgb_reg.predict(test_df)"
      ],
      "execution_count": 0,
      "outputs": []
    },
    {
      "cell_type": "code",
      "metadata": {
        "id": "vK2oQLimVm-X",
        "colab_type": "code",
        "outputId": "7dd624ea-9ce9-4617-d270-016d9ab9a946",
        "colab": {
          "base_uri": "https://localhost:8080/",
          "height": 34
        }
      },
      "source": [
        "train_df.shape"
      ],
      "execution_count": 0,
      "outputs": [
        {
          "output_type": "execute_result",
          "data": {
            "text/plain": [
              "(6014, 11)"
            ]
          },
          "metadata": {
            "tags": []
          },
          "execution_count": 45
        }
      ]
    },
    {
      "cell_type": "markdown",
      "metadata": {
        "id": "tnbQ8ISPsOwB",
        "colab_type": "text"
      },
      "source": [
        "### Artificial Neural Network"
      ]
    },
    {
      "cell_type": "code",
      "metadata": {
        "id": "-Z4FzGnJVnFo",
        "colab_type": "code",
        "outputId": "054f27c1-7f1b-4d71-e9dd-7867b090813a",
        "colab": {
          "base_uri": "https://localhost:8080/",
          "height": 1000
        }
      },
      "source": [
        "# Feature Scaling\n",
        "from sklearn.preprocessing import StandardScaler\n",
        "\n",
        "sc = StandardScaler()\n",
        "X_train = sc.fit_transform(train_df)\n",
        "X_test = sc.transform(test_df)\n",
        "\n",
        "# Evaluating, Improving and Tuning the ANN\n",
        "\n",
        "# Evaluating the ANN\n",
        "from sklearn.model_selection import cross_val_score\n",
        "from tensorflow.contrib.keras.api.keras.wrappers.scikit_learn import KerasRegressor\n",
        "from sklearn.model_selection import GridSearchCV\n",
        "from tensorflow.contrib.keras.api.keras.models import Sequential\n",
        "from tensorflow.contrib.keras.api.keras.layers import Dense, Dropout\n",
        "from tensorflow.contrib.keras import backend\n",
        "\n",
        "def build_regressor():\n",
        "    regressor = Sequential()\n",
        "    regressor.add(Dense(units=6, kernel_initializer='uniform', activation='relu', input_dim=11))\n",
        "    regressor.add(Dense(units=6, kernel_initializer='uniform', activation='relu'))\n",
        "    regressor.add(Dense(units=1, kernel_initializer='uniform', activation='linear'))\n",
        "    regressor.compile(optimizer='adam', loss='mean_squared_error')\n",
        "    return regressor\n",
        "\n",
        "\n",
        "regressor = KerasRegressor(build_fn=build_regressor, batch_size=10, epochs=10)\n",
        "# cv = 10 is the usual number used for cross validation (it runs 10 different experiments)\n",
        "accuracies = cross_val_score(estimator=regressor, X=X_train, y=target, cv=10, n_jobs=1,scoring=make_scorer(mean_squared_error))\n",
        "mean = accuracies.mean()\n",
        "variance = accuracies.std()\n"
      ],
      "execution_count": 0,
      "outputs": [
        {
          "output_type": "stream",
          "text": [
            "WARNING: Logging before flag parsing goes to stderr.\n",
            "W0718 13:57:00.717719 140171146680192 deprecation.py:506] From /usr/local/lib/python3.6/dist-packages/tensorflow/python/keras/initializers.py:119: calling RandomUniform.__init__ (from tensorflow.python.ops.init_ops) with dtype is deprecated and will be removed in a future version.\n",
            "Instructions for updating:\n",
            "Call initializer instance with the dtype argument instead of passing it to the constructor\n"
          ],
          "name": "stderr"
        },
        {
          "output_type": "stream",
          "text": [
            "Epoch 1/10\n",
            "5412/5412 [==============================] - 5s 859us/sample - loss: 125.2363\n",
            "Epoch 2/10\n",
            "5412/5412 [==============================] - 1s 216us/sample - loss: 30.5360\n",
            "Epoch 3/10\n",
            "5412/5412 [==============================] - 1s 213us/sample - loss: 27.3453\n",
            "Epoch 4/10\n",
            "5412/5412 [==============================] - 1s 218us/sample - loss: 25.6895\n",
            "Epoch 5/10\n",
            "5412/5412 [==============================] - 1s 213us/sample - loss: 24.8516\n",
            "Epoch 6/10\n",
            "5412/5412 [==============================] - 1s 220us/sample - loss: 24.1668\n",
            "Epoch 7/10\n",
            "5412/5412 [==============================] - 1s 220us/sample - loss: 23.5487\n",
            "Epoch 8/10\n",
            "5412/5412 [==============================] - 1s 215us/sample - loss: 23.0381\n",
            "Epoch 9/10\n",
            "5412/5412 [==============================] - 1s 213us/sample - loss: 22.5383\n",
            "Epoch 10/10\n",
            "5412/5412 [==============================] - 1s 213us/sample - loss: 22.1318\n",
            "Epoch 1/10\n",
            "5412/5412 [==============================] - 1s 246us/sample - loss: 122.7402\n",
            "Epoch 2/10\n",
            "5412/5412 [==============================] - 1s 215us/sample - loss: 29.2999\n",
            "Epoch 3/10\n",
            "5412/5412 [==============================] - 1s 220us/sample - loss: 26.5263\n",
            "Epoch 4/10\n",
            "5412/5412 [==============================] - 1s 220us/sample - loss: 25.1141\n",
            "Epoch 5/10\n",
            "5412/5412 [==============================] - 1s 215us/sample - loss: 24.1710\n",
            "Epoch 6/10\n",
            "5412/5412 [==============================] - 1s 216us/sample - loss: 23.4691\n",
            "Epoch 7/10\n",
            "5412/5412 [==============================] - 1s 224us/sample - loss: 22.8246\n",
            "Epoch 8/10\n",
            "5412/5412 [==============================] - 1s 216us/sample - loss: 22.2487\n",
            "Epoch 9/10\n",
            "5412/5412 [==============================] - 1s 220us/sample - loss: 21.8637\n",
            "Epoch 10/10\n",
            "5412/5412 [==============================] - 1s 215us/sample - loss: 21.4723\n",
            "Epoch 1/10\n",
            "5412/5412 [==============================] - 1s 254us/sample - loss: 122.6338\n",
            "Epoch 2/10\n",
            "5412/5412 [==============================] - 1s 219us/sample - loss: 29.4010\n",
            "Epoch 3/10\n",
            "5412/5412 [==============================] - 1s 214us/sample - loss: 26.7525\n",
            "Epoch 4/10\n",
            "5412/5412 [==============================] - 1s 220us/sample - loss: 25.3620\n",
            "Epoch 5/10\n",
            "5412/5412 [==============================] - 1s 219us/sample - loss: 24.3220\n",
            "Epoch 6/10\n",
            "5412/5412 [==============================] - 1s 226us/sample - loss: 23.5727\n",
            "Epoch 7/10\n",
            "5412/5412 [==============================] - 1s 226us/sample - loss: 22.8753\n",
            "Epoch 8/10\n",
            "5412/5412 [==============================] - 1s 217us/sample - loss: 22.3973\n",
            "Epoch 9/10\n",
            "5412/5412 [==============================] - 1s 224us/sample - loss: 21.8516\n",
            "Epoch 10/10\n",
            "5412/5412 [==============================] - 1s 220us/sample - loss: 21.4475\n",
            "Epoch 1/10\n",
            "5412/5412 [==============================] - 1s 254us/sample - loss: 108.9359\n",
            "Epoch 2/10\n",
            "5412/5412 [==============================] - 1s 226us/sample - loss: 27.2810\n",
            "Epoch 3/10\n",
            "5412/5412 [==============================] - 1s 227us/sample - loss: 25.1331\n",
            "Epoch 4/10\n",
            "5412/5412 [==============================] - 1s 265us/sample - loss: 23.9923\n",
            "Epoch 5/10\n",
            "4720/5412 [=========================>....] - ETA: 0s - loss: 23.9662"
          ],
          "name": "stdout"
        }
      ]
    },
    {
      "cell_type": "code",
      "metadata": {
        "id": "m_2rreNDVnD4",
        "colab_type": "code",
        "colab": {}
      },
      "source": [
        "# Tuning the ANN\n",
        "def build_regressor(optimizer):\n",
        "    regressor = Sequential()\n",
        "    regressor.add(Dense(units=6, kernel_initializer='uniform', activation='relu', input_dim=11))\n",
        "    # Improving the ANN\n",
        "    # Dropout Regularization to reduce overfitting if needed\n",
        "    regressor.add(Dropout(0.1))\n",
        "    regressor.add(Dense(units=6, kernel_initializer='uniform', activation='relu'))\n",
        "    regressor.add(Dense(units=1, kernel_initializer='uniform', activation='linear'))\n",
        "    regressor.compile(optimizer=optimizer, loss='mean_squared_error')\n",
        "    return regressor\n",
        "\n",
        "\n",
        "regressor = KerasClassifier(build_fn=build_classifier)\n",
        "parameters = {'batch_size': [25, 32],\n",
        "              'epochs': [10, 50],\n",
        "              'optimizer': ['adam', 'rmsprop']}\n",
        "grid_search = GridSearchCV(estimator=regressor,\n",
        "                           param_grid=parameters,\n",
        "                           scoring='accuracy',\n",
        "                           cv=10)\n",
        "grid_search = grid_search.fit(X_train, target)\n",
        "best_parameters = grid_search.best_params_\n",
        "best_accuracy = grid_search.best_score_\n",
        "backend.clear_session()"
      ],
      "execution_count": 0,
      "outputs": []
    }
  ]
}